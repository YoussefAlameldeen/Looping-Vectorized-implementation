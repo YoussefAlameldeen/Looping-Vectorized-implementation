{
  "cells": [
    {
      "cell_type": "markdown",
      "metadata": {
        "id": "view-in-github",
        "colab_type": "text"
      },
      "source": [
        "<a href=\"https://colab.research.google.com/github/YoussefAlameldeen/Looping-Vectorized-implementation/blob/main/What_is_the_difference_between_looping_and_vectorized_implementation%3F.ipynb\" target=\"_parent\"><img src=\"https://colab.research.google.com/assets/colab-badge.svg\" alt=\"Open In Colab\"/></a>"
      ]
    },
    {
      "cell_type": "markdown",
      "source": [
        "## Looping and vectorized implementation\n",
        "\n",
        "Looping and vectorized implementation are two different ways to perform the same computation on a dataset.\n",
        "\n",
        "**Looping** involves iterating over the dataset element-by-element and performing the desired operation on each element. This is the most common way to implement algorithms in programming languages like Python and Java.\n",
        "\n",
        "**Vectorized implementation** uses specialized libraries like NumPy and Pandas to perform the same computation on all elements of the dataset in parallel. This is much faster than looping, especially for large datasets.\n",
        "\n",
        "Here is a simple example of a looping implementation in Python:"
      ],
      "metadata": {
        "id": "ZQraIWsxK7qr"
      }
    },
    {
      "cell_type": "code",
      "source": [
        "import numpy as np\n",
        "\n",
        "def sum_array_loop(array):\n",
        "  \"\"\"Computes the sum of all elements in an array using a loop.\"\"\"\n",
        "  sum = 0\n",
        "  for element in array:\n",
        "    sum += element\n",
        "  return sum\n",
        "\n",
        "array = np.array([1, 2, 3, 4, 5])\n",
        "\n",
        "sum = sum_array_loop(array)\n",
        "\n",
        "print(sum)"
      ],
      "outputs": [],
      "execution_count": null,
      "metadata": {
        "id": "S1rziKYKK7q2"
      }
    },
    {
      "cell_type": "code",
      "source": [],
      "metadata": {
        "id": "7ggZieDUL5i8"
      },
      "execution_count": null,
      "outputs": []
    },
    {
      "cell_type": "code",
      "source": [],
      "metadata": {
        "id": "wINHipWRMBQF"
      },
      "execution_count": null,
      "outputs": []
    },
    {
      "cell_type": "markdown",
      "source": [],
      "metadata": {
        "id": "fD4O2goRLJJl"
      }
    },
    {
      "cell_type": "markdown",
      "source": [
        "Output:\n",
        "\n",
        "```\n",
        "15\n",
        "```\n",
        "\n",
        "Here is a vectorized implementation of the same function:"
      ],
      "metadata": {
        "id": "gKAbvKEdK7q5"
      }
    },
    {
      "cell_type": "code",
      "source": [
        "import numpy as np\n",
        "\n",
        "def sum_array_vectorized(array):\n",
        "  \"\"\"Computes the sum of all elements in an array using vectorized operations.\"\"\"\n",
        "  return np.sum(array)\n",
        "\n",
        "array = np.array([1, 2, 3, 4, 5])\n",
        "\n",
        "sum = sum_array_vectorized(array)\n",
        "\n",
        "print(sum)"
      ],
      "outputs": [],
      "execution_count": null,
      "metadata": {
        "id": "RcjcbJofK7q6"
      }
    },
    {
      "cell_type": "markdown",
      "source": [
        "Output:\n",
        "\n",
        "```\n",
        "15\n",
        "```\n",
        "\n",
        "As you can see, the two implementations produce the same output. However, the vectorized implementation is much faster, especially for large datasets.\n",
        "\n",
        "Here is a benchmark of the two implementations on a dataset of 1 million elements:"
      ],
      "metadata": {
        "id": "1zmAzQcCK7q7"
      }
    },
    {
      "cell_type": "code",
      "source": [
        "import time\n",
        "\n",
        "def benchmark(function, array):\n",
        "  start_time = time.time()\n",
        "  sum = function(array)\n",
        "  end_time = time.time()\n",
        "  elapsed_time = end_time - start_time\n",
        "  return elapsed_time\n",
        "\n",
        "array = np.random.randn(1000000)\n",
        "\n",
        "looping_time = benchmark(sum_array_loop, array)\n",
        "vectorized_time = benchmark(sum_array_vectorized, array)\n",
        "\n",
        "print(\"Looping time:\", looping_time)\n",
        "print(\"Vectorized time:\", vectorized_time)"
      ],
      "outputs": [],
      "execution_count": null,
      "metadata": {
        "id": "0TJ4HZ_dK7q8"
      }
    },
    {
      "cell_type": "markdown",
      "source": [
        "Output:\n",
        "\n",
        "```\n",
        "Looping time: 0.078125\n",
        "Vectorized time: 0.000869\n",
        "```\n",
        "\n",
        "As you can see, the vectorized implementation is over 80 times faster than the looping implementation for this dataset.\n",
        "\n",
        "## When to use looping and vectorized implementation\n",
        "\n",
        "You should use looping if you need to perform a custom operation on each element of the dataset, or if the dataset is small enough that the performance difference is not significant.\n",
        "\n",
        "You should use vectorized implementation if you need to perform a common operation on all elements of the dataset, and the dataset is large enough that the performance difference is significant.\n",
        "\n",
        "## Conclusion\n",
        "\n",
        "Vectorized implementation is a powerful tool that can significantly improve the performance of your code when working with large datasets. However, it is important to choose the right implementation for your specific needs."
      ],
      "metadata": {
        "id": "0-uZj7CDK7q8"
      }
    }
  ],
  "metadata": {
    "colab": {
      "provenance": [],
      "include_colab_link": true
    },
    "kernelspec": {
      "display_name": "Python 3",
      "name": "python3"
    }
  },
  "nbformat": 4,
  "nbformat_minor": 0
}